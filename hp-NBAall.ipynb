{
 "cells": [
  {
   "cell_type": "code",
   "execution_count": 1,
   "metadata": {},
   "outputs": [],
   "source": [
    "import requests\n",
    "import time\n",
    "import random\n",
    "import pymysql\n",
    "from bs4 import BeautifulSoup"
   ]
  },
  {
   "cell_type": "code",
   "execution_count": 2,
   "metadata": {},
   "outputs": [],
   "source": [
    "def sqldb(data_list):\n",
    "    db = pymysql.connect(host=\"localhost\",user=\"root\",passwd=\"DELTA113420root\",database=\"hp\",charset=\"utf8\",port=3306)\n",
    "    cursor = db.cursor()\n",
    "    \n",
    "    sql = 'INSERT INTO `hpNBA-all`(title,url,author,time,reply,view) VALUES(%s,%s,%s,%s,%s,%s)'\n",
    "    try:\n",
    "        cursor.executemany(sql,data_list)\n",
    "        db.commit()\n",
    "    except Exception as e:\n",
    "        print(\"执行MySQL: %s 时出错：%s\" % (sql, e)) \n",
    "        db.rollback()\n",
    "\n",
    "    '''\n",
    "    for data in data_list:\n",
    "        title=data[0]\n",
    "        url=data[1]\n",
    "        author=data[2]\n",
    "        time=data[3]\n",
    "        reply=data[4]\n",
    "        view=data[5]\n",
    "        print(type(title))\n",
    "        print(type(url))\n",
    "        print(type(author))\n",
    "        print(type(time))\n",
    "        print(type(reply))\n",
    "        print(type(view))\n",
    "        try:\n",
    "            sql = 'INSERT INTO `hpNBA-all`(title,url,author,time,reply,view)VALUES(%s,%s,%s,%s,%s,%d)'\n",
    "            print(sql)\n",
    "            cursor.execute(sql,(title,url,author,time,reply,view))\n",
    "            db.commit()\n",
    "        except Exception as e:\n",
    "            print(\"执行MySQL: %s 时出错：%s\" % (sql, e)) \n",
    "            db.rollback()\n",
    "    '''\n",
    "    db.close()"
   ]
  },
  {
   "cell_type": "code",
   "execution_count": 3,
   "metadata": {},
   "outputs": [],
   "source": [
    "def get_pages(page_url):\n",
    "    headers = {\n",
    "        'User-Agent':'Mozilla/5.0 (Macintosh; Intel Mac OS X 10_15_7) AppleWebKit/537.36 (KHTML, like Gecko) Chrome/91.0.4472.164 Safari/537.36'\n",
    "    }\n",
    "    response = requests.get(url=page_url,headers=headers)\n",
    "    page_soup = BeautifulSoup(response.text,'lxml')\n",
    "    return page_soup"
   ]
  },
  {
   "cell_type": "code",
   "execution_count": 4,
   "metadata": {},
   "outputs": [],
   "source": [
    "def parse_pages(page_soup):\n",
    "    data_list = []\n",
    "    upperdiv = page_soup.find('div',class_='bbs-sl-web-post')\n",
    "    all_list = upperdiv.find('ul')\n",
    "    post_list = all_list.find_all('li')\n",
    "    for post in post_list:\n",
    "        post_title = post.find('a',class_='p-title').text\n",
    "        post_url = 'https://bbs.hupu.com'+post.find('a',class_='p-title')['href']\n",
    "        post_author_div = post.find('div',class_='post-auth')\n",
    "        post_author = post_author_div.find('a').text\n",
    "        post_time = post.find('div',class_='post-time').text\n",
    "        post_data = post.find('div',class_='post-datum').text\n",
    "        post_reply = post_data.split('/')[0].strip()\n",
    "        post_reply = int(post_reply)\n",
    "        post_view = post_data.split('/')[1].strip()\n",
    "        post_view = int(post_view)\n",
    "        data_list.append((post_title,post_url,post_author,post_time,post_reply,post_view))\n",
    "    #print(data_list)\n",
    "    return data_list"
   ]
  },
  {
   "cell_type": "code",
   "execution_count": 5,
   "metadata": {},
   "outputs": [
    {
     "name": "stdout",
     "output_type": "stream",
     "text": [
      "<class 'int'>\n",
      "<class 'int'>\n"
     ]
    }
   ],
   "source": [
    "url = 'https://bbs.hupu.com/vote-1'\n",
    "soup = get_pages(url)\n",
    "result_list = parse_pages(soup)\n",
    "print(type(result_list[0][4]))\n",
    "print(type(result_list[0][5]))\n",
    "sqldb(result_list)"
   ]
  },
  {
   "cell_type": "code",
   "execution_count": null,
   "metadata": {},
   "outputs": [],
   "source": []
  },
  {
   "cell_type": "code",
   "execution_count": null,
   "metadata": {},
   "outputs": [],
   "source": []
  },
  {
   "cell_type": "code",
   "execution_count": null,
   "metadata": {},
   "outputs": [],
   "source": []
  }
 ],
 "metadata": {
  "kernelspec": {
   "display_name": "Python 3",
   "language": "python",
   "name": "python3"
  },
  "language_info": {
   "codemirror_mode": {
    "name": "ipython",
    "version": 3
   },
   "file_extension": ".py",
   "mimetype": "text/x-python",
   "name": "python",
   "nbconvert_exporter": "python",
   "pygments_lexer": "ipython3",
   "version": "3.7.4"
  }
 },
 "nbformat": 4,
 "nbformat_minor": 2
}
